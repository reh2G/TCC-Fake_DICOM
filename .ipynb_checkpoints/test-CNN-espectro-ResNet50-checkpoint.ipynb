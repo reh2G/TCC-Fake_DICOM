{
 "cells": [
  {
   "cell_type": "code",
   "execution_count": 1,
   "metadata": {},
   "outputs": [
    {
     "name": "stderr",
     "output_type": "stream",
     "text": [
      "2025-03-31 02:38:18.614412: E external/local_xla/xla/stream_executor/cuda/cuda_fft.cc:485] Unable to register cuFFT factory: Attempting to register factory for plugin cuFFT when one has already been registered\n",
      "2025-03-31 02:38:18.627973: E external/local_xla/xla/stream_executor/cuda/cuda_dnn.cc:8454] Unable to register cuDNN factory: Attempting to register factory for plugin cuDNN when one has already been registered\n",
      "2025-03-31 02:38:18.631818: E external/local_xla/xla/stream_executor/cuda/cuda_blas.cc:1452] Unable to register cuBLAS factory: Attempting to register factory for plugin cuBLAS when one has already been registered\n",
      "2025-03-31 02:38:18.642264: I tensorflow/core/platform/cpu_feature_guard.cc:210] This TensorFlow binary is optimized to use available CPU instructions in performance-critical operations.\n",
      "To enable the following instructions: SSE4.1 SSE4.2 AVX AVX2 FMA, in other operations, rebuild TensorFlow with the appropriate compiler flags.\n"
     ]
    }
   ],
   "source": [
    "from sklearn.model_selection import StratifiedKFold, train_test_split\n",
    "from sklearn.metrics import classification_report, confusion_matrix, accuracy_score, jaccard_score, f1_score, precision_score, recall_score\n",
    "from skimage.metrics import structural_similarity as ssim\n",
    "from sklearn import preprocessing\n",
    "from keras.utils import to_categorical\n",
    "from keras import regularizers\n",
    "from keras.models import Model\n",
    "from keras.callbacks import ModelCheckpoint\n",
    "from keras.layers import Input, Dense, Dropout, Lambda, GlobalAveragePooling2D\n",
    "from keras.src.legacy.preprocessing.image import ImageDataGenerator\n",
    "\n",
    "import random\n",
    "import re\n",
    "import glob\n",
    "from tqdm import tqdm\n",
    "import os\n",
    "import cv2\n",
    "import numpy as np\n",
    "import matplotlib.pyplot as plt\n",
    "import seaborn as sns\n",
    "import tensorflow as tf\n",
    "import time\n",
    "import gc"
   ]
  },
  {
   "cell_type": "code",
   "execution_count": 2,
   "metadata": {},
   "outputs": [
    {
     "name": "stdout",
     "output_type": "stream",
     "text": [
      "GPUs disponíveis: [PhysicalDevice(name='/physical_device:GPU:0', device_type='GPU')]\n"
     ]
    },
    {
     "name": "stderr",
     "output_type": "stream",
     "text": [
      "WARNING: All log messages before absl::InitializeLog() is called are written to STDERR\n",
      "I0000 00:00:1743399503.660260    1439 cuda_executor.cc:1001] could not open file to read NUMA node: /sys/bus/pci/devices/0000:10:00.0/numa_node\n",
      "Your kernel may have been built without NUMA support.\n",
      "I0000 00:00:1743399503.718082    1439 cuda_executor.cc:1001] could not open file to read NUMA node: /sys/bus/pci/devices/0000:10:00.0/numa_node\n",
      "Your kernel may have been built without NUMA support.\n",
      "I0000 00:00:1743399503.718247    1439 cuda_executor.cc:1001] could not open file to read NUMA node: /sys/bus/pci/devices/0000:10:00.0/numa_node\n",
      "Your kernel may have been built without NUMA support.\n"
     ]
    }
   ],
   "source": [
    "gpus = tf.config.list_physical_devices('GPU')\n",
    "if gpus:\n",
    "    print(f\"GPUs disponíveis: {gpus}\")\n",
    "else:\n",
    "    print(\"Nenhuma GPU encontrada.\")"
   ]
  },
  {
   "cell_type": "code",
   "execution_count": 3,
   "metadata": {},
   "outputs": [],
   "source": [
    "# nome = 'PACS'\n",
    "nome = 'Yildirim'\n",
    "#nome = 'Todos'\n",
    "\n",
    "imgs_path = 'Bases/Dataset' + nome\n",
    "\n",
    "output_dir = \"test-CNN-espectro-ResNet50 results (2%)/\"\n",
    "os.makedirs(output_dir, exist_ok=True)\n",
    "\n",
    "TEST_SIZE = 0.1\n",
    "VALIDATION_SIZE = 0.1\n",
    "\n",
    "SIMILARITY = 0.75\n",
    "\n",
    "EPOCHS = 200\n",
    "BATCH_SIZE = 32\n",
    "\n",
    "HIGH_FREQ_THRESHOLD = 2\n",
    "NUM_FOLD = 2"
   ]
  },
  {
   "cell_type": "code",
   "execution_count": 4,
   "metadata": {},
   "outputs": [],
   "source": [
    "def get_next_filename(output_folder, base_name, type):\n",
    "    if not os.path.exists(output_folder):\n",
    "        os.makedirs(output_folder)\n",
    "        \n",
    "    image_index = 0\n",
    "    \n",
    "    while True:\n",
    "        output_filename = f\"{base_name}_{image_index}.{type}\"\n",
    "        output_path = os.path.join(output_folder, output_filename)\n",
    "        \n",
    "        if not os.path.exists(output_path):\n",
    "            return output_filename\n",
    "            \n",
    "        image_index += 1"
   ]
  },
  {
   "cell_type": "code",
   "execution_count": 5,
   "metadata": {},
   "outputs": [],
   "source": [
    "def extract_number(filename):\n",
    "    match = re.search(r'(\\d+)', filename)\n",
    "    return int(match.group(0)) if match else 0"
   ]
  },
  {
   "cell_type": "code",
   "execution_count": 6,
   "metadata": {},
   "outputs": [],
   "source": [
    "def sort_files_numerically(file_paths):\n",
    "    return sorted(file_paths, key=lambda x: extract_number(x))"
   ]
  },
  {
   "cell_type": "code",
   "execution_count": 7,
   "metadata": {},
   "outputs": [],
   "source": [
    "def read_dataset(path, jpg, png):\n",
    "    print(f'Reading dataset...\\n')\n",
    "    \n",
    "    img_type = []\n",
    "    images = []\n",
    "    image_paths = []\n",
    "\n",
    "    if jpg:\n",
    "        img_type.append('*.jpg')\n",
    "    if png:\n",
    "        img_type.append('*.png')\n",
    "\n",
    "# Normal\n",
    "\n",
    "    normal_path = os.path.join(path, 'Train', 'Normal')\n",
    "    print(f'Reading Normal images from: {normal_path}')\n",
    "    \n",
    "    for img_type_pattern in img_type:\n",
    "        img_paths = glob.glob(os.path.join(normal_path, img_type_pattern))\n",
    "        img_paths = sort_files_numerically(img_paths)\n",
    "        \n",
    "        for img_path in img_paths:\n",
    "            img = cv2.imread(img_path, 0)\n",
    "            img = cv2.resize(img, (224, 224))\n",
    "            images.append(img)\n",
    "            image_paths.append(img_path)\n",
    "\n",
    "# Kidney\n",
    "\n",
    "    kidney_stone_path = os.path.join(path, 'Train', 'Kidney_stone')\n",
    "    print(f'Reading Kidney_stone images from: {kidney_stone_path}')\n",
    "    \n",
    "    for img_type_pattern in img_type:\n",
    "        img_paths = glob.glob(os.path.join(kidney_stone_path, img_type_pattern))\n",
    "        img_paths = sort_files_numerically(img_paths)\n",
    "        \n",
    "        for img_path in img_paths:\n",
    "            img = cv2.imread(img_path, 0)\n",
    "            img = cv2.resize(img, (224, 224))\n",
    "            images.append(img)\n",
    "            image_paths.append(img_path)\n",
    "\n",
    "# ...\n",
    "    \n",
    "    images = np.array(images)\n",
    "    image_paths = np.array(image_paths)\n",
    "\n",
    "    return images, image_paths"
   ]
  },
  {
   "cell_type": "code",
   "execution_count": 8,
   "metadata": {},
   "outputs": [
    {
     "name": "stdout",
     "output_type": "stream",
     "text": [
      "Reading dataset...\n",
      "\n",
      "Reading Normal images from: Bases/DatasetYildirim/Train/Normal\n",
      "Reading Kidney_stone images from: Bases/DatasetYildirim/Train/Kidney_stone\n"
     ]
    }
   ],
   "source": [
    "all_X, all_image_paths = read_dataset(path=imgs_path, jpg=True, png=True)"
   ]
  },
  {
   "cell_type": "code",
   "execution_count": 9,
   "metadata": {},
   "outputs": [],
   "source": [
    "def freq_spec(image, threshold, add_noise):\n",
    "    f = np.fft.fft2(image)\n",
    "    fshift = np.fft.fftshift(f)\n",
    "\n",
    "    if add_noise:\n",
    "        amplification_factor = 0.5\n",
    "        rows, cols = image.shape\n",
    "        crow, ccol = rows//2, cols//2\n",
    "\n",
    "        corner = np.random.randint(0, 4)\n",
    "        \n",
    "        mask = np.zeros((rows, cols), dtype=bool)\n",
    "        \n",
    "        if corner == 0:    # Canto superior esquerdo\n",
    "            mask[:crow - threshold, :ccol - threshold] = True\n",
    "        elif corner == 1:  # Canto superior direito\n",
    "            mask[:crow - threshold, ccol + threshold:] = True\n",
    "        elif corner == 2:  # Canto inferior esquerdo\n",
    "            mask[crow + threshold:, :ccol - threshold] = True\n",
    "        else:              # Canto inferior direito\n",
    "            mask[crow + threshold:, ccol + threshold:] = True\n",
    "\n",
    "        fshift[mask] *= amplification_factor\n",
    "\n",
    "    magnitude_spectrum_high = 20 * np.log(np.abs(fshift) + 1)\n",
    "\n",
    "    return magnitude_spectrum_high"
   ]
  },
  {
   "cell_type": "code",
   "execution_count": 10,
   "metadata": {},
   "outputs": [],
   "source": [
    "def save_specs(images, threshold, add_noise):\n",
    "    specs = []\n",
    "    for img in images:\n",
    "        specs.append(freq_spec(img, threshold, add_noise))\n",
    "    return specs"
   ]
  },
  {
   "cell_type": "code",
   "execution_count": 11,
   "metadata": {},
   "outputs": [],
   "source": [
    "all_specs = []\n",
    "all_labels = []\n",
    "\n",
    "half = len(all_X) // 2\n",
    "for i, img in enumerate(all_X):\n",
    "    if i < half:\n",
    "        all_specs.append(freq_spec(img, 100 - HIGH_FREQ_THRESHOLD, add_noise=False))\n",
    "        all_labels.append(0)\n",
    "    else:\n",
    "        all_specs.append(freq_spec(img, 100 - HIGH_FREQ_THRESHOLD, add_noise=True))\n",
    "        all_labels.append(1)\n",
    "\n",
    "all_specs = np.array(all_specs)\n",
    "all_labels = np.array(all_labels)"
   ]
  },
  {
   "cell_type": "code",
   "execution_count": 12,
   "metadata": {},
   "outputs": [
    {
     "name": "stdout",
     "output_type": "stream",
     "text": [
      "Quantidade das imagens: (1799, 224, 224)\n",
      "Exemplo dos labels (False = original, True = com ruído): [0 0 0 ... 1 1 1]\n"
     ]
    }
   ],
   "source": [
    "print(\"Quantidade das imagens:\", all_specs.shape)\n",
    "print(\"Exemplo dos labels (False = original, True = com ruído):\", all_labels)"
   ]
  },
  {
   "cell_type": "code",
   "execution_count": 13,
   "metadata": {},
   "outputs": [],
   "source": [
    "X_train, X_test, y_train, y_test, paths_train, paths_test = train_test_split(\n",
    "        all_specs, all_labels, all_image_paths,\n",
    "        test_size=TEST_SIZE, \n",
    "        stratify=all_labels,\n",
    "#       random_state=53\n",
    "    )"
   ]
  },
  {
   "cell_type": "code",
   "execution_count": 14,
   "metadata": {},
   "outputs": [],
   "source": [
    "def plot_specs(specs, title):\n",
    "    total_images = len(specs)\n",
    "    imgs_per_figure = 100\n",
    "    cols = 5\n",
    "    rows = (imgs_per_figure + cols - 1) // cols\n",
    "\n",
    "    for start in range(0, total_images, imgs_per_figure):\n",
    "        plt.figure(figsize=(cols * 3, rows * 3))\n",
    "        end = min(start + imgs_per_figure, total_images)\n",
    "        \n",
    "        for i in range(start, end):\n",
    "            plt.subplot(rows, cols, i - start + 1)\n",
    "            plt.imshow(specs[i], cmap='gray')\n",
    "            plt.title(f\"{title} - freq spec: img {i+1}\")\n",
    "            plt.axis('off')\n",
    "            \n",
    "        plt.tight_layout()\n",
    "        plt.show()"
   ]
  },
  {
   "cell_type": "code",
   "execution_count": 15,
   "metadata": {},
   "outputs": [],
   "source": [
    "# Plotar todos os espectros de teste\n",
    "#plot_specs(X_test, title=\"test\")"
   ]
  },
  {
   "cell_type": "code",
   "execution_count": 16,
   "metadata": {},
   "outputs": [],
   "source": [
    "#pausa de teste"
   ]
  },
  {
   "cell_type": "code",
   "execution_count": 17,
   "metadata": {},
   "outputs": [],
   "source": [
    "# Defines the model layers (now for ResNet50)\n",
    "def model_resnet50():  # (Optional: Rename the function for clarity)\n",
    "    # Camada de entrada para imagens em escala de cinza (mantido igual)\n",
    "    inputs = Input(shape=(224, 224, 1))\n",
    "    \n",
    "    # 1. Conversão para 3 canais\n",
    "    x = Lambda(\n",
    "        lambda x: tf.stack([x[..., 0]]*3, axis=-1),\n",
    "        output_shape=(224, 224, 3)\n",
    "    )(inputs)\n",
    "    \n",
    "    # 2. Pré-processamento ResNet\n",
    "    x = tf.keras.applications.resnet.preprocess_input(x)\n",
    "    \n",
    "    # 3. *** ALTERAÇÃO PRINCIPAL: Carregar ResNet-50 ***\n",
    "    base_model = tf.keras.applications.ResNet50(\n",
    "        weights='imagenet',\n",
    "        include_top=False,\n",
    "        input_tensor=x\n",
    "    )\n",
    "    \n",
    "    # 4. Topo personalizado (mantido igual)\n",
    "    x = base_model.output\n",
    "    x = GlobalAveragePooling2D()(x)\n",
    "    \n",
    "    x = Dense(150, kernel_regularizer=regularizers.l2(0.01), activation='relu')(x)\n",
    "    x = Dropout(0.25)(x)\n",
    "    \n",
    "    x = Dense(100, kernel_regularizer=regularizers.l2(0.01), activation='relu')(x)\n",
    "    x = Dropout(0.25)(x)\n",
    "    \n",
    "    outputs = Dense(2, activation='softmax')(x)\n",
    "    \n",
    "    # Compilação (mantido igual)\n",
    "    model = Model(inputs=inputs, outputs=outputs)\n",
    "    model.compile(\n",
    "        optimizer='Adam',\n",
    "        loss='categorical_crossentropy',\n",
    "        metrics=['accuracy']\n",
    "    )\n",
    "    \n",
    "    return model"
   ]
  },
  {
   "cell_type": "code",
   "execution_count": null,
   "metadata": {},
   "outputs": [
    {
     "name": "stdout",
     "output_type": "stream",
     "text": [
      "Folds concluídos: []\n",
      "\n",
      "Treinando Fold 1/2\n"
     ]
    }
   ],
   "source": [
    "acc = []\n",
    "jacc = []\n",
    "f1 = []\n",
    "prec = []\n",
    "rec = []\n",
    "\n",
    "# Configurar K-Fold com random_state fixo para reprodutibilidade\n",
    "#kfold = StratifiedKFold(n_splits=5, shuffle=True, random_state=53)\n",
    "kfold = StratifiedKFold(n_splits=NUM_FOLD, shuffle=True, random_state=53)\n",
    "\n",
    "# Verificar quais folds já foram completados\n",
    "completed_folds = []\n",
    "for f in range(1, NUM_FOLD + 1):\n",
    "    model_path = output_dir + f'model_{nome}_fold_{f}.keras'\n",
    "    if os.path.exists(model_path):\n",
    "        completed_folds.append(f)\n",
    "print(f\"Folds concluídos: {completed_folds}\")\n",
    "\n",
    "fold_no = 1\n",
    "histories = []\n",
    "metrics = []\n",
    "\n",
    "for train_idx, val_idx in kfold.split(X_train, y_train):\n",
    "    # Pular folds já concluídos\n",
    "    if fold_no in completed_folds:\n",
    "        print(f\"\\nPulando fold {fold_no} (já concluído)\")\n",
    "        fold_no += 1\n",
    "        continue\n",
    "\n",
    "    print(f'\\nTreinando Fold {fold_no}/{NUM_FOLD}')\n",
    "    \n",
    "    # Split dos dados\n",
    "    X_train_fold = X_train[train_idx]\n",
    "    y_train_fold = y_train[train_idx]\n",
    "    X_val_fold = X_train[val_idx]\n",
    "    y_val_fold = y_train[val_idx]\n",
    "\n",
    "    # Pré-processamento final\n",
    "    X_train_fold = np.expand_dims(X_train_fold, axis=-1)\n",
    "    X_val_fold = np.expand_dims(X_val_fold, axis=-1)\n",
    "    y_train_fold_cat = to_categorical(y_train_fold, 2)\n",
    "    y_val_fold_cat = to_categorical(y_val_fold, 2)\n",
    "\n",
    "    # Criar novo modelo para cada fold\n",
    "    model = model_resnet50()\n",
    "\n",
    "    # Checkpoint com nome do fold\n",
    "    checkpoint_filepath = output_dir + f'model_{nome}_fold_{fold_no}.keras'\n",
    "    callbacks = [\n",
    "        tf.keras.callbacks.EarlyStopping(patience=20, monitor='val_loss'),\n",
    "        tf.keras.callbacks.TensorBoard(log_dir='logs'),\n",
    "        tf.keras.callbacks.ModelCheckpoint(\n",
    "            filepath=checkpoint_filepath,\n",
    "            save_weights_only=False,\n",
    "            monitor='val_accuracy',\n",
    "            mode='max',\n",
    "            save_best_only=True,\n",
    "            verbose=1\n",
    "        )\n",
    "    ]\n",
    "\n",
    "    # Calcula tempo (start)\n",
    "    start_time = time.time()\n",
    "    \n",
    "    # Treinar modelo\n",
    "    history = model.fit(\n",
    "        X_train_fold, y_train_fold_cat,\n",
    "        batch_size=BATCH_SIZE,\n",
    "        epochs=EPOCHS,\n",
    "        validation_data=(X_val_fold, y_val_fold_cat),\n",
    "        callbacks=callbacks,\n",
    "        verbose=1\n",
    "    )\n",
    "\n",
    "    # Calcula tempo (end)\n",
    "    end_time = time.time()\n",
    "\n",
    "    training_time = end_time - start_time\n",
    "    print(f\"\\nO modelo demorou {training_time:.2f} segundos para treinar.\")\n",
    "\n",
    "    # Coletar métricas e salvar modelo\n",
    "    predictions = model.predict(X_val_fold)\n",
    "    y_pred = np.argmax(predictions, axis=1)\n",
    "    \n",
    "    metrics.append({\n",
    "        'fold': fold_no,\n",
    "        'report': classification_report(y_val_fold, y_pred, output_dict=True, zero_division=0),\n",
    "        'matrix': confusion_matrix(y_val_fold, y_pred)\n",
    "    })\n",
    "\n",
    "    # Métricas de classificação (por fold)\n",
    "    acc.append(accuracy_score(y_val_fold, y_pred))\n",
    "    jacc.append(jaccard_score(y_val_fold, y_pred))\n",
    "    f1.append(f1_score(y_val_fold, y_pred))\n",
    "    prec.append(precision_score(y_val_fold, y_pred))\n",
    "    rec.append(recall_score(y_val_fold, y_pred))\n",
    "\n",
    "    # Salvar métricas em um arquivo .txt\n",
    "    metrics_filename = os.path.join(output_dir, f'metrics_{nome}_fold_{fold_no}.txt')\n",
    "    with open(metrics_filename, 'w') as f:\n",
    "        f.write(f\"Fold {fold_no} Metrics:\\n\")\n",
    "        f.write(f\"Accuracy: {acc[-1]}\\n\")\n",
    "        f.write(f\"Jaccard Score: {jacc[-1]}\\n\")\n",
    "        f.write(f\"F1 Score: {f1[-1]}\\n\")\n",
    "        f.write(f\"Precision: {prec[-1]}\\n\")\n",
    "        f.write(f\"Recall: {rec[-1]}\\n\")\n",
    "        f.write(\"\\nClassification Report:\\n\")\n",
    "        f.write(classification_report(y_val_fold, y_pred, zero_division=0))\n",
    "        f.write(\"\\nConfusion Matrix:\\n\")\n",
    "        f.write(np.array2string(confusion_matrix(y_val_fold, y_pred)))\n",
    "\n",
    "    # Limpeza de memória\n",
    "    del model\n",
    "    tf.keras.backend.clear_session()\n",
    "    gc.collect()\n",
    "\n",
    "    # Salvar checkpoint a cada 3 folds\n",
    "    if fold_no % 3 == 0:\n",
    "        print(f\"\\nCheckpoint: Folds {fold_no-2}-{fold_no} concluídos\")\n",
    "\n",
    "    fold_no += 1"
   ]
  },
  {
   "cell_type": "code",
   "execution_count": null,
   "metadata": {
    "scrolled": true
   },
   "outputs": [],
   "source": [
    "print(\"Accuracy: \"+ str(np.mean(acc)) + \"+- \" + str(np.std(acc)))\n",
    "print(\"Jaccard: \"+ str(np.mean(jacc)) + \"+- \" + str(np.std(jacc)))\n",
    "print(\"Dice: \"+ str(np.mean(f1)) + \"+- \" + str(np.std(f1)))\n",
    "print(\"Precision: \"+ str(np.mean(prec)) + \"+- \" + str(np.std(prec)))\n",
    "print(\"Recall: \"+ str(np.mean(rec)) + \"+- \" + str(np.std(rec)))"
   ]
  },
  {
   "cell_type": "code",
   "execution_count": null,
   "metadata": {},
   "outputs": [],
   "source": []
  }
 ],
 "metadata": {
  "kernelspec": {
   "display_name": "Python 3 (ipykernel)",
   "language": "python",
   "name": "python3"
  },
  "language_info": {
   "codemirror_mode": {
    "name": "ipython",
    "version": 3
   },
   "file_extension": ".py",
   "mimetype": "text/x-python",
   "name": "python",
   "nbconvert_exporter": "python",
   "pygments_lexer": "ipython3",
   "version": "3.10.16"
  }
 },
 "nbformat": 4,
 "nbformat_minor": 4
}
