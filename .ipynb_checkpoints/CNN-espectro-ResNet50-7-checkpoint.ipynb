{
 "cells": [
  {
   "cell_type": "code",
   "execution_count": 1,
   "metadata": {},
   "outputs": [
    {
     "name": "stderr",
     "output_type": "stream",
     "text": [
      "2025-03-24 16:03:52.185550: E external/local_xla/xla/stream_executor/cuda/cuda_fft.cc:485] Unable to register cuFFT factory: Attempting to register factory for plugin cuFFT when one has already been registered\n",
      "2025-03-24 16:03:52.195771: E external/local_xla/xla/stream_executor/cuda/cuda_dnn.cc:8454] Unable to register cuDNN factory: Attempting to register factory for plugin cuDNN when one has already been registered\n",
      "2025-03-24 16:03:52.198838: E external/local_xla/xla/stream_executor/cuda/cuda_blas.cc:1452] Unable to register cuBLAS factory: Attempting to register factory for plugin cuBLAS when one has already been registered\n",
      "2025-03-24 16:03:52.207000: I tensorflow/core/platform/cpu_feature_guard.cc:210] This TensorFlow binary is optimized to use available CPU instructions in performance-critical operations.\n",
      "To enable the following instructions: SSE4.1 SSE4.2 AVX AVX2 FMA, in other operations, rebuild TensorFlow with the appropriate compiler flags.\n"
     ]
    }
   ],
   "source": [
    "from sklearn.model_selection import StratifiedKFold, train_test_split\n",
    "from sklearn.metrics import classification_report, confusion_matrix, accuracy_score, jaccard_score, f1_score, precision_score, recall_score\n",
    "from skimage.metrics import structural_similarity as ssim\n",
    "from sklearn import preprocessing\n",
    "from keras.utils import to_categorical\n",
    "from keras import regularizers\n",
    "from keras.models import Model\n",
    "from keras.callbacks import ModelCheckpoint\n",
    "from keras.layers import Input, Dense, Dropout, Lambda, GlobalAveragePooling2D\n",
    "from keras.src.legacy.preprocessing.image import ImageDataGenerator\n",
    "\n",
    "import random\n",
    "import re\n",
    "import glob\n",
    "from tqdm import tqdm\n",
    "import os\n",
    "import cv2\n",
    "import numpy as np\n",
    "import matplotlib.pyplot as plt\n",
    "import seaborn as sns\n",
    "import tensorflow as tf\n",
    "import time\n",
    "import gc"
   ]
  },
  {
   "cell_type": "code",
   "execution_count": 2,
   "metadata": {},
   "outputs": [
    {
     "name": "stdout",
     "output_type": "stream",
     "text": [
      "GPUs disponíveis: [PhysicalDevice(name='/physical_device:GPU:0', device_type='GPU')]\n"
     ]
    },
    {
     "name": "stderr",
     "output_type": "stream",
     "text": [
      "WARNING: All log messages before absl::InitializeLog() is called are written to STDERR\n",
      "I0000 00:00:1742843034.147482   24415 cuda_executor.cc:1001] could not open file to read NUMA node: /sys/bus/pci/devices/0000:10:00.0/numa_node\n",
      "Your kernel may have been built without NUMA support.\n",
      "I0000 00:00:1742843034.183488   24415 cuda_executor.cc:1001] could not open file to read NUMA node: /sys/bus/pci/devices/0000:10:00.0/numa_node\n",
      "Your kernel may have been built without NUMA support.\n",
      "I0000 00:00:1742843034.183580   24415 cuda_executor.cc:1001] could not open file to read NUMA node: /sys/bus/pci/devices/0000:10:00.0/numa_node\n",
      "Your kernel may have been built without NUMA support.\n"
     ]
    }
   ],
   "source": [
    "gpus = tf.config.list_physical_devices('GPU')\n",
    "if gpus:\n",
    "    print(f\"GPUs disponíveis: {gpus}\")\n",
    "else:\n",
    "    print(\"Nenhuma GPU encontrada.\")"
   ]
  },
  {
   "cell_type": "code",
   "execution_count": 3,
   "metadata": {},
   "outputs": [],
   "source": [
    "# nome = 'PACS'\n",
    "nome = 'Yildirim'\n",
    "#nome = 'Todos'\n",
    "\n",
    "imgs_path = 'Bases/Dataset' + nome\n",
    "\n",
    "output_dir = \"CNN-espectro-MobileNetV2-6 results_2/\"\n",
    "os.makedirs(output_dir, exist_ok=True)\n",
    "\n",
    "TEST_SIZE = 0.1\n",
    "VALIDATION_SIZE = 0.1\n",
    "\n",
    "SIMILARITY = 0.75\n",
    "\n",
    "EPOCHS = 200\n",
    "BATCH_SIZE = 32\n",
    "\n",
    "HIGH_FREQ_THRESHOLD = 12"
   ]
  },
  {
   "cell_type": "code",
   "execution_count": 4,
   "metadata": {},
   "outputs": [],
   "source": [
    "def get_next_filename(output_folder, base_name, type):\n",
    "    if not os.path.exists(output_folder):\n",
    "        os.makedirs(output_folder)\n",
    "        \n",
    "    image_index = 0\n",
    "    \n",
    "    while True:\n",
    "        output_filename = f\"{base_name}_{image_index}.{type}\"\n",
    "        output_path = os.path.join(output_folder, output_filename)\n",
    "        \n",
    "        if not os.path.exists(output_path):\n",
    "            return output_filename\n",
    "            \n",
    "        image_index += 1"
   ]
  },
  {
   "cell_type": "code",
   "execution_count": 5,
   "metadata": {},
   "outputs": [],
   "source": [
    "def extract_number(filename):\n",
    "    match = re.search(r'(\\d+)', filename)\n",
    "    return int(match.group(0)) if match else 0"
   ]
  },
  {
   "cell_type": "code",
   "execution_count": 6,
   "metadata": {},
   "outputs": [],
   "source": [
    "def sort_files_numerically(file_paths):\n",
    "    return sorted(file_paths, key=lambda x: extract_number(x))"
   ]
  },
  {
   "cell_type": "code",
   "execution_count": 7,
   "metadata": {},
   "outputs": [],
   "source": [
    "def find_groups(images, image_paths, test_size, similarity_threshold):\n",
    "    def are_similar(img1, img2, threshold):\n",
    "        similarity = ssim(img1, img2)\n",
    "        return similarity >= threshold\n",
    "\n",
    "    groups = []\n",
    "    current_group = [image_paths[0]]\n",
    "\n",
    "    for i in range(1, len(images)):\n",
    "        if are_similar(images[i-1], images[i], similarity_threshold):\n",
    "            current_group.append(image_paths[i])\n",
    "        else:\n",
    "            groups.append(current_group)\n",
    "            current_group = [image_paths[i]]\n",
    "    \n",
    "    if current_group:\n",
    "        groups.append(current_group)\n",
    "\n",
    "    all_images = [img_path for group in groups for img_path in group]\n",
    "\n",
    "    for img_path in image_paths:\n",
    "        if img_path not in all_images:\n",
    "            groups.append([img_path])\n",
    "\n",
    "    random.shuffle(groups)\n",
    "\n",
    "    train_set = []\n",
    "    test_set = []\n",
    "    current_test_size = 0\n",
    "    \n",
    "    for i, group in enumerate(groups):\n",
    "        if current_test_size + len(group) <= test_size:\n",
    "            test_set.extend(group)\n",
    "            current_test_size += len(group)\n",
    "        else:\n",
    "            train_set.extend(group)\n",
    "\n",
    "    return train_set, test_set"
   ]
  },
  {
   "cell_type": "code",
   "execution_count": 8,
   "metadata": {},
   "outputs": [],
   "source": [
    "output_folder = 'Groups'\n",
    "type = 'txt'\n",
    "\n",
    "def save_groups(train_groups, test_groups, base_name):\n",
    "    if not os.path.exists(output_folder):\n",
    "        os.makedirs(output_folder)\n",
    "\n",
    "    output_filename = get_next_filename(output_folder, base_name, type)\n",
    "    output_path = os.path.join(output_folder, output_filename)\n",
    "\n",
    "    with open(output_path, 'w') as file:\n",
    "        file.write('- test:\\n')\n",
    "        for idx, group in enumerate(test_groups, start=1):\n",
    "            for img in group:\n",
    "                file.write(f\"{img}\\n\")\n",
    "        \n",
    "        file.write('- train:\\n')\n",
    "        for idx, group in enumerate(train_groups, start=1):\n",
    "            for img in group:\n",
    "                file.write(f'{img}\\n')\n",
    "    \n",
    "    print(f'Group information saved in {output_path}')"
   ]
  },
  {
   "cell_type": "code",
   "execution_count": 9,
   "metadata": {},
   "outputs": [],
   "source": [
    "def read_dataset(path, jpg, png):\n",
    "    print(f'Reading dataset...\\n')\n",
    "    \n",
    "    img_type = []\n",
    "    images = []\n",
    "    image_paths = []\n",
    "\n",
    "    if jpg:\n",
    "        img_type.append('*.jpg')\n",
    "    if png:\n",
    "        img_type.append('*.png')\n",
    "\n",
    "# Normal\n",
    "\n",
    "    normal_path = os.path.join(path, 'Train', 'Normal')\n",
    "    print(f'Reading Normal images from: {normal_path}')\n",
    "    \n",
    "    for img_type_pattern in img_type:\n",
    "        img_paths = glob.glob(os.path.join(normal_path, img_type_pattern))\n",
    "        img_paths = sort_files_numerically(img_paths)\n",
    "        \n",
    "        for img_path in img_paths:\n",
    "            img = cv2.imread(img_path, 0)\n",
    "            img = cv2.resize(img, (224, 224))\n",
    "            images.append(img)\n",
    "            image_paths.append(img_path)\n",
    "\n",
    "# Kidney\n",
    "\n",
    "    kidney_stone_path = os.path.join(path, 'Train', 'Kidney_stone')\n",
    "    print(f'Reading Kidney_stone images from: {kidney_stone_path}')\n",
    "    \n",
    "    for img_type_pattern in img_type:\n",
    "        img_paths = glob.glob(os.path.join(kidney_stone_path, img_type_pattern))\n",
    "        img_paths = sort_files_numerically(img_paths)\n",
    "        \n",
    "        for img_path in img_paths:\n",
    "            img = cv2.imread(img_path, 0)\n",
    "            img = cv2.resize(img, (224, 224))\n",
    "            images.append(img)\n",
    "            image_paths.append(img_path)\n",
    "\n",
    "# ...\n",
    "    \n",
    "    images = np.array(images)\n",
    "    image_paths = np.array(image_paths)\n",
    "\n",
    "    return images, image_paths"
   ]
  },
  {
   "cell_type": "code",
   "execution_count": 10,
   "metadata": {},
   "outputs": [
    {
     "name": "stdout",
     "output_type": "stream",
     "text": [
      "Reading dataset...\n",
      "\n",
      "Reading Normal images from: Bases/DatasetYildirim/Train/Normal\n",
      "Reading Kidney_stone images from: Bases/DatasetYildirim/Train/Kidney_stone\n"
     ]
    }
   ],
   "source": [
    "all_X, all_image_paths = read_dataset(path=imgs_path, jpg=True, png=True)"
   ]
  },
  {
   "cell_type": "code",
   "execution_count": 11,
   "metadata": {},
   "outputs": [],
   "source": [
    "def freq_spec(image, threshold, add_noise):\n",
    "    f = np.fft.fft2(image)\n",
    "    fshift = np.fft.fftshift(f)\n",
    "\n",
    "    if add_noise:\n",
    "        amplification_factor = 0.5\n",
    "        rows, cols = image.shape\n",
    "        crow, ccol = rows//2, cols//2\n",
    "\n",
    "        corner = np.random.randint(0, 4)\n",
    "        \n",
    "        mask = np.zeros((rows, cols), dtype=bool)\n",
    "        \n",
    "        if corner == 0:    # Canto superior esquerdo\n",
    "            mask[:crow - threshold, :ccol - threshold] = True\n",
    "        elif corner == 1:  # Canto superior direito\n",
    "            mask[:crow - threshold, ccol + threshold:] = True\n",
    "        elif corner == 2:  # Canto inferior esquerdo\n",
    "            mask[crow + threshold:, :ccol - threshold] = True\n",
    "        else:              # Canto inferior direito\n",
    "            mask[crow + threshold:, ccol + threshold:] = True\n",
    "\n",
    "        fshift[mask] *= amplification_factor\n",
    "\n",
    "    magnitude_spectrum_high = 20 * np.log(np.abs(fshift) + 1)\n",
    "\n",
    "    return magnitude_spectrum_high"
   ]
  },
  {
   "cell_type": "code",
   "execution_count": 12,
   "metadata": {},
   "outputs": [],
   "source": [
    "def save_specs(images, threshold, add_noise):\n",
    "    specs = []\n",
    "    for img in images:\n",
    "        specs.append(freq_spec(img, threshold, add_noise))\n",
    "    return specs"
   ]
  },
  {
   "cell_type": "code",
   "execution_count": 13,
   "metadata": {},
   "outputs": [],
   "source": [
    "all_specs = []\n",
    "all_labels = []\n",
    "\n",
    "half = len(all_X) // 2\n",
    "for i, img in enumerate(all_X):\n",
    "    if i < half:\n",
    "        all_specs.append(freq_spec(img, 100 - HIGH_FREQ_THRESHOLD, add_noise=False))\n",
    "        all_labels.append(0)\n",
    "    else:\n",
    "        all_specs.append(freq_spec(img, 100 - HIGH_FREQ_THRESHOLD, add_noise=True))\n",
    "        all_labels.append(1)\n",
    "\n",
    "all_specs = np.array(all_specs)\n",
    "all_labels = np.array(all_labels)"
   ]
  },
  {
   "cell_type": "code",
   "execution_count": 14,
   "metadata": {},
   "outputs": [
    {
     "name": "stdout",
     "output_type": "stream",
     "text": [
      "Quantidade das imagens: (1799, 224, 224)\n",
      "Exemplo dos labels (False = original, True = com ruído): [0 0 0 ... 1 1 1]\n"
     ]
    }
   ],
   "source": [
    "print(\"Quantidade das imagens:\", all_specs.shape)\n",
    "print(\"Exemplo dos labels (False = original, True = com ruído):\", all_labels)"
   ]
  },
  {
   "cell_type": "code",
   "execution_count": 15,
   "metadata": {},
   "outputs": [],
   "source": [
    "X_train, X_test, y_train, y_test, paths_train, paths_test = train_test_split(\n",
    "        all_specs, all_labels, all_image_paths,\n",
    "        test_size=TEST_SIZE, \n",
    "        stratify=all_labels,\n",
    "#       random_state=53\n",
    "    )"
   ]
  },
  {
   "cell_type": "code",
   "execution_count": 16,
   "metadata": {},
   "outputs": [],
   "source": [
    "def plot_specs(specs, title):\n",
    "    total_images = len(specs)\n",
    "    imgs_per_figure = 100\n",
    "    cols = 5\n",
    "    rows = (imgs_per_figure + cols - 1) // cols\n",
    "\n",
    "    for start in range(0, total_images, imgs_per_figure):\n",
    "        plt.figure(figsize=(cols * 3, rows * 3))\n",
    "        end = min(start + imgs_per_figure, total_images)\n",
    "        \n",
    "        for i in range(start, end):\n",
    "            plt.subplot(rows, cols, i - start + 1)\n",
    "            plt.imshow(specs[i], cmap='gray')\n",
    "            plt.title(f\"{title} - freq spec: img {i+1}\")\n",
    "            plt.axis('off')\n",
    "            \n",
    "        plt.tight_layout()\n",
    "        plt.show()"
   ]
  },
  {
   "cell_type": "code",
   "execution_count": 17,
   "metadata": {},
   "outputs": [],
   "source": [
    "# Plotar todos os espectros de teste\n",
    "#plot_specs(X_test, title=\"test\")"
   ]
  },
  {
   "cell_type": "code",
   "execution_count": 18,
   "metadata": {},
   "outputs": [],
   "source": [
    "#pausa de teste"
   ]
  },
  {
   "cell_type": "code",
   "execution_count": 19,
   "metadata": {},
   "outputs": [],
   "source": [
    "# Defines the model layers (now for ResNet50)\n",
    "def model_mobilenetv2():\n",
    "    inputs = Input(shape=(224, 224, 1))\n",
    "    \n",
    "    # 1. Conversão para 3 canais (igual ao anterior)\n",
    "    x = Lambda(lambda x: tf.repeat(x, 3, axis=-1))(inputs)\n",
    "    \n",
    "    # 2. Pré-processamento específico do MobileNetV2\n",
    "    x = tf.keras.applications.mobilenet_v2.preprocess_input(x)\n",
    "    \n",
    "    # 3. Carregar MobileNetV2\n",
    "    base_model = tf.keras.applications.MobileNetV2(\n",
    "        weights='imagenet',\n",
    "        include_top=False,\n",
    "        input_tensor=x,\n",
    "        alpha=1.0  # Controla a largura da rede (1.0 = 224x224)\n",
    "    )\n",
    "    \n",
    "    # 4. Topo personalizado (ajustar camadas se necessário)\n",
    "    x = base_model.output\n",
    "    x = GlobalAveragePooling2D()(x)\n",
    "    \n",
    "    # Reduzir unidades para melhor compatibilidade\n",
    "    x = Dense(128, kernel_regularizer=regularizers.l2(0.01), activation='relu')(x)\n",
    "    x = Dropout(0.3)(x)\n",
    "    \n",
    "    x = Dense(64, kernel_regularizer=regularizers.l2(0.01), activation='relu')(x)\n",
    "    x = Dropout(0.3)(x)\n",
    "    \n",
    "    outputs = Dense(2, activation='softmax')(x)\n",
    "    \n",
    "    model = Model(inputs=inputs, outputs=outputs)\n",
    "    model.compile(\n",
    "        optimizer=tf.keras.optimizers.Adam(learning_rate=1e-4),\n",
    "        loss='categorical_crossentropy',\n",
    "        metrics=['accuracy']\n",
    "    )\n",
    "    \n",
    "    return model"
   ]
  },
  {
   "cell_type": "code",
   "execution_count": 20,
   "metadata": {},
   "outputs": [
    {
     "name": "stdout",
     "output_type": "stream",
     "text": [
      "Folds concluídos: [1, 2, 3, 4]\n",
      "\n",
      "Pulando fold 1 (já concluído)\n",
      "\n",
      "Pulando fold 2 (já concluído)\n",
      "\n",
      "Pulando fold 3 (já concluído)\n",
      "\n",
      "Pulando fold 4 (já concluído)\n",
      "\n",
      "Treinando Fold 5/5\n"
     ]
    },
    {
     "name": "stderr",
     "output_type": "stream",
     "text": [
      "/tmp/ipykernel_24415/1359235689.py:12: UserWarning: `input_shape` is undefined or non-square, or `rows` is not in [96, 128, 160, 192, 224]. Weights for input shape (224, 224) will be loaded as the default.\n",
      "  base_model = tf.keras.applications.MobileNetV2(\n",
      "I0000 00:00:1742843084.455182   24415 cuda_executor.cc:1001] could not open file to read NUMA node: /sys/bus/pci/devices/0000:10:00.0/numa_node\n",
      "Your kernel may have been built without NUMA support.\n",
      "I0000 00:00:1742843084.455345   24415 cuda_executor.cc:1001] could not open file to read NUMA node: /sys/bus/pci/devices/0000:10:00.0/numa_node\n",
      "Your kernel may have been built without NUMA support.\n",
      "I0000 00:00:1742843084.455406   24415 cuda_executor.cc:1001] could not open file to read NUMA node: /sys/bus/pci/devices/0000:10:00.0/numa_node\n",
      "Your kernel may have been built without NUMA support.\n",
      "I0000 00:00:1742843084.704202   24415 cuda_executor.cc:1001] could not open file to read NUMA node: /sys/bus/pci/devices/0000:10:00.0/numa_node\n",
      "Your kernel may have been built without NUMA support.\n",
      "I0000 00:00:1742843084.704306   24415 cuda_executor.cc:1001] could not open file to read NUMA node: /sys/bus/pci/devices/0000:10:00.0/numa_node\n",
      "Your kernel may have been built without NUMA support.\n",
      "2025-03-24 16:04:44.704316: I tensorflow/core/common_runtime/gpu/gpu_device.cc:2112] Could not identify NUMA node of platform GPU id 0, defaulting to 0.  Your kernel may not have been built with NUMA support.\n",
      "I0000 00:00:1742843084.704398   24415 cuda_executor.cc:1001] could not open file to read NUMA node: /sys/bus/pci/devices/0000:10:00.0/numa_node\n",
      "Your kernel may have been built without NUMA support.\n",
      "2025-03-24 16:04:44.704454: I tensorflow/core/common_runtime/gpu/gpu_device.cc:2021] Created device /job:localhost/replica:0/task:0/device:GPU:0 with 9711 MB memory:  -> device: 0, name: NVIDIA GeForce RTX 3060, pci bus id: 0000:10:00.0, compute capability: 8.6\n"
     ]
    },
    {
     "name": "stdout",
     "output_type": "stream",
     "text": [
      "Epoch 1/200\n"
     ]
    },
    {
     "name": "stderr",
     "output_type": "stream",
     "text": [
      "I0000 00:00:1742843102.566849   24477 service.cc:146] XLA service 0x7fdc800052d0 initialized for platform CUDA (this does not guarantee that XLA will be used). Devices:\n",
      "I0000 00:00:1742843102.566982   24477 service.cc:154]   StreamExecutor device (0): NVIDIA GeForce RTX 3060, Compute Capability 8.6\n",
      "2025-03-24 16:05:03.319014: I tensorflow/compiler/mlir/tensorflow/utils/dump_mlir_util.cc:268] disabling MLIR crash reproducer, set env var `MLIR_CRASH_REPRODUCER_DIRECTORY` to enable.\n",
      "2025-03-24 16:05:05.151842: I external/local_xla/xla/stream_executor/cuda/cuda_dnn.cc:531] Loaded cuDNN version 90101\n",
      "2025-03-24 16:05:07.910812: I external/local_xla/xla/stream_executor/cuda/cuda_asm_compiler.cc:393] ptxas warning : Registers are spilled to local memory in function 'gemm_fusion_dot_8073', 4 bytes spill stores, 4 bytes spill loads\n",
      "\n",
      "2025-03-24 16:05:08.046136: I external/local_xla/xla/stream_executor/cuda/cuda_asm_compiler.cc:393] ptxas warning : Registers are spilled to local memory in function 'gemm_fusion_dot_8073', 148 bytes spill stores, 148 bytes spill loads\n",
      "\n",
      "2025-03-24 16:05:08.658351: I external/local_xla/xla/stream_executor/cuda/cuda_asm_compiler.cc:393] ptxas warning : Registers are spilled to local memory in function 'gemm_fusion_dot_15109', 32 bytes spill stores, 32 bytes spill loads\n",
      "\n",
      "2025-03-24 16:05:08.746701: I external/local_xla/xla/stream_executor/cuda/cuda_asm_compiler.cc:393] ptxas warning : Registers are spilled to local memory in function 'gemm_fusion_dot_15109', 36 bytes spill stores, 40 bytes spill loads\n",
      "\n",
      "2025-03-24 16:05:18.272301: E external/local_xla/xla/service/slow_operation_alarm.cc:65] Trying algorithm eng34{k2=2,k4=0,k5=0,k6=0,k7=0,k19=0} for conv (f32[32,576,14,14]{3,2,1,0}, u8[0]{0}) custom-call(f32[32,96,14,14]{3,2,1,0}, f32[576,96,1,1]{3,2,1,0}), window={size=1x1}, dim_labels=bf01_oi01->bf01, custom_call_target=\"__cudnn$convForward\", backend_config={\"operation_queue_id\":\"0\",\"wait_on_operation_queues\":[],\"cudnn_conv_backend_config\":{\"activation_mode\":\"kNone\",\"conv_result_scale\":1,\"side_input_scale\":0,\"leakyrelu_alpha\":0},\"force_earliest_schedule\":false} is taking a while...\n",
      "2025-03-24 16:05:18.274152: E external/local_xla/xla/service/slow_operation_alarm.cc:133] The operation took 2.934052508s\n",
      "Trying algorithm eng34{k2=2,k4=0,k5=0,k6=0,k7=0,k19=0} for conv (f32[32,576,14,14]{3,2,1,0}, u8[0]{0}) custom-call(f32[32,96,14,14]{3,2,1,0}, f32[576,96,1,1]{3,2,1,0}), window={size=1x1}, dim_labels=bf01_oi01->bf01, custom_call_target=\"__cudnn$convForward\", backend_config={\"operation_queue_id\":\"0\",\"wait_on_operation_queues\":[],\"cudnn_conv_backend_config\":{\"activation_mode\":\"kNone\",\"conv_result_scale\":1,\"side_input_scale\":0,\"leakyrelu_alpha\":0},\"force_earliest_schedule\":false} is taking a while...\n",
      "I0000 00:00:1742843134.717917   24477 device_compiler.h:188] Compiled cluster using XLA!  This line is logged at most once for the lifetime of the process.\n"
     ]
    },
    {
     "name": "stdout",
     "output_type": "stream",
     "text": [
      "\u001b[1m40/41\u001b[0m \u001b[32m━━━━━━━━━━━━━━━━━━━\u001b[0m\u001b[37m━\u001b[0m \u001b[1m0s\u001b[0m 61ms/step - accuracy: 0.4743 - loss: 3.9374"
     ]
    },
    {
     "name": "stderr",
     "output_type": "stream",
     "text": [
      "2025-03-24 16:05:41.567118: I external/local_xla/xla/stream_executor/cuda/cuda_asm_compiler.cc:393] ptxas warning : Registers are spilled to local memory in function 'gemm_fusion_dot_8073', 4 bytes spill stores, 4 bytes spill loads\n",
      "\n"
     ]
    },
    {
     "name": "stdout",
     "output_type": "stream",
     "text": [
      "\u001b[1m41/41\u001b[0m \u001b[32m━━━━━━━━━━━━━━━━━━━━\u001b[0m\u001b[37m\u001b[0m \u001b[1m0s\u001b[0m 641ms/step - accuracy: 0.4748 - loss: 3.9364\n",
      "Epoch 1: val_accuracy improved from -inf to 0.49536, saving model to CNN-espectro-MobileNetV2-6 results_2/model_Yildirim_fold_5.keras\n",
      "\u001b[1m41/41\u001b[0m \u001b[32m━━━━━━━━━━━━━━━━━━━━\u001b[0m\u001b[37m\u001b[0m \u001b[1m80s\u001b[0m 848ms/step - accuracy: 0.4753 - loss: 3.9353 - val_accuracy: 0.4954 - val_loss: 3.8106\n",
      "Epoch 2/200\n",
      "\u001b[1m40/41\u001b[0m \u001b[32m━━━━━━━━━━━━━━━━━━━\u001b[0m\u001b[37m━\u001b[0m \u001b[1m0s\u001b[0m 62ms/step - accuracy: 0.6897 - loss: 3.6351\n",
      "Epoch 2: val_accuracy did not improve from 0.49536\n",
      "\u001b[1m41/41\u001b[0m \u001b[32m━━━━━━━━━━━━━━━━━━━━\u001b[0m\u001b[37m\u001b[0m \u001b[1m3s\u001b[0m 67ms/step - accuracy: 0.6903 - loss: 3.6334 - val_accuracy: 0.4861 - val_loss: 3.7038\n",
      "Epoch 3/200\n",
      "\u001b[1m40/41\u001b[0m \u001b[32m━━━━━━━━━━━━━━━━━━━\u001b[0m\u001b[37m━\u001b[0m \u001b[1m0s\u001b[0m 63ms/step - accuracy: 0.8394 - loss: 3.3344\n",
      "Epoch 3: val_accuracy improved from 0.49536 to 0.49845, saving model to CNN-espectro-MobileNetV2-6 results_2/model_Yildirim_fold_5.keras\n",
      "\u001b[1m41/41\u001b[0m \u001b[32m━━━━━━━━━━━━━━━━━━━━\u001b[0m\u001b[37m\u001b[0m \u001b[1m3s\u001b[0m 82ms/step - accuracy: 0.8390 - loss: 3.3332 - val_accuracy: 0.4985 - val_loss: 3.7969\n",
      "Epoch 4/200\n",
      "\u001b[1m40/41\u001b[0m \u001b[32m━━━━━━━━━━━━━━━━━━━\u001b[0m\u001b[37m━\u001b[0m \u001b[1m0s\u001b[0m 62ms/step - accuracy: 0.9302 - loss: 3.0599\n",
      "Epoch 4: val_accuracy did not improve from 0.49845\n",
      "\u001b[1m41/41\u001b[0m \u001b[32m━━━━━━━━━━━━━━━━━━━━\u001b[0m\u001b[37m\u001b[0m \u001b[1m3s\u001b[0m 66ms/step - accuracy: 0.9301 - loss: 3.0582 - val_accuracy: 0.4954 - val_loss: 3.9053\n",
      "Epoch 5/200\n",
      "\u001b[1m40/41\u001b[0m \u001b[32m━━━━━━━━━━━━━━━━━━━\u001b[0m\u001b[37m━\u001b[0m \u001b[1m0s\u001b[0m 63ms/step - accuracy: 0.9792 - loss: 2.8191\n",
      "Epoch 5: val_accuracy did not improve from 0.49845\n",
      "\u001b[1m41/41\u001b[0m \u001b[32m━━━━━━━━━━━━━━━━━━━━\u001b[0m\u001b[37m\u001b[0m \u001b[1m3s\u001b[0m 67ms/step - accuracy: 0.9789 - loss: 2.8175 - val_accuracy: 0.4985 - val_loss: 4.6766\n",
      "Epoch 6/200\n",
      "\u001b[1m40/41\u001b[0m \u001b[32m━━━━━━━━━━━━━━━━━━━\u001b[0m\u001b[37m━\u001b[0m \u001b[1m0s\u001b[0m 63ms/step - accuracy: 0.9903 - loss: 2.6394\n",
      "Epoch 6: val_accuracy did not improve from 0.49845\n",
      "\u001b[1m41/41\u001b[0m \u001b[32m━━━━━━━━━━━━━━━━━━━━\u001b[0m\u001b[37m\u001b[0m \u001b[1m3s\u001b[0m 67ms/step - accuracy: 0.9902 - loss: 2.6383 - val_accuracy: 0.4954 - val_loss: 4.6429\n",
      "Epoch 7/200\n",
      "\u001b[1m40/41\u001b[0m \u001b[32m━━━━━━━━━━━━━━━━━━━\u001b[0m\u001b[37m━\u001b[0m \u001b[1m0s\u001b[0m 137ms/step - accuracy: 0.9977 - loss: 2.5112\n",
      "Epoch 7: val_accuracy did not improve from 0.49845\n",
      "\u001b[1m41/41\u001b[0m \u001b[32m━━━━━━━━━━━━━━━━━━━━\u001b[0m\u001b[37m\u001b[0m \u001b[1m6s\u001b[0m 139ms/step - accuracy: 0.9976 - loss: 2.5098 - val_accuracy: 0.4954 - val_loss: 4.2579\n",
      "Epoch 8/200\n",
      "\u001b[1m40/41\u001b[0m \u001b[32m━━━━━━━━━━━━━━━━━━━\u001b[0m\u001b[37m━\u001b[0m \u001b[1m0s\u001b[0m 62ms/step - accuracy: 0.9967 - loss: 2.3855\n",
      "Epoch 8: val_accuracy did not improve from 0.49845\n",
      "\u001b[1m41/41\u001b[0m \u001b[32m━━━━━━━━━━━━━━━━━━━━\u001b[0m\u001b[37m\u001b[0m \u001b[1m3s\u001b[0m 66ms/step - accuracy: 0.9967 - loss: 2.3841 - val_accuracy: 0.4954 - val_loss: 5.2062\n",
      "Epoch 9/200\n",
      "\u001b[1m40/41\u001b[0m \u001b[32m━━━━━━━━━━━━━━━━━━━\u001b[0m\u001b[37m━\u001b[0m \u001b[1m0s\u001b[0m 62ms/step - accuracy: 0.9997 - loss: 2.2633\n",
      "Epoch 9: val_accuracy did not improve from 0.49845\n",
      "\u001b[1m41/41\u001b[0m \u001b[32m━━━━━━━━━━━━━━━━━━━━\u001b[0m\u001b[37m\u001b[0m \u001b[1m3s\u001b[0m 66ms/step - accuracy: 0.9996 - loss: 2.2622 - val_accuracy: 0.4985 - val_loss: 4.5986\n",
      "Epoch 10/200\n",
      "\u001b[1m40/41\u001b[0m \u001b[32m━━━━━━━━━━━━━━━━━━━\u001b[0m\u001b[37m━\u001b[0m \u001b[1m0s\u001b[0m 62ms/step - accuracy: 0.9920 - loss: 2.1690\n",
      "Epoch 10: val_accuracy did not improve from 0.49845\n",
      "\u001b[1m41/41\u001b[0m \u001b[32m━━━━━━━━━━━━━━━━━━━━\u001b[0m\u001b[37m\u001b[0m \u001b[1m3s\u001b[0m 66ms/step - accuracy: 0.9920 - loss: 2.1680 - val_accuracy: 0.4985 - val_loss: 6.0056\n",
      "Epoch 11/200\n",
      "\u001b[1m40/41\u001b[0m \u001b[32m━━━━━━━━━━━━━━━━━━━\u001b[0m\u001b[37m━\u001b[0m \u001b[1m0s\u001b[0m 62ms/step - accuracy: 0.9864 - loss: 2.0666\n",
      "Epoch 11: val_accuracy did not improve from 0.49845\n",
      "\u001b[1m41/41\u001b[0m \u001b[32m━━━━━━━━━━━━━━━━━━━━\u001b[0m\u001b[37m\u001b[0m \u001b[1m3s\u001b[0m 66ms/step - accuracy: 0.9867 - loss: 2.0651 - val_accuracy: 0.4985 - val_loss: 5.8700\n",
      "Epoch 12/200\n",
      "\u001b[1m40/41\u001b[0m \u001b[32m━━━━━━━━━━━━━━━━━━━\u001b[0m\u001b[37m━\u001b[0m \u001b[1m0s\u001b[0m 62ms/step - accuracy: 0.9966 - loss: 1.9423\n",
      "Epoch 12: val_accuracy did not improve from 0.49845\n",
      "\u001b[1m41/41\u001b[0m \u001b[32m━━━━━━━━━━━━━━━━━━━━\u001b[0m\u001b[37m\u001b[0m \u001b[1m3s\u001b[0m 66ms/step - accuracy: 0.9965 - loss: 1.9411 - val_accuracy: 0.4985 - val_loss: 5.6138\n",
      "Epoch 13/200\n",
      "\u001b[1m40/41\u001b[0m \u001b[32m━━━━━━━━━━━━━━━━━━━\u001b[0m\u001b[37m━\u001b[0m \u001b[1m0s\u001b[0m 61ms/step - accuracy: 0.9985 - loss: 1.8372\n",
      "Epoch 13: val_accuracy did not improve from 0.49845\n",
      "\u001b[1m41/41\u001b[0m \u001b[32m━━━━━━━━━━━━━━━━━━━━\u001b[0m\u001b[37m\u001b[0m \u001b[1m3s\u001b[0m 66ms/step - accuracy: 0.9985 - loss: 1.8360 - val_accuracy: 0.4985 - val_loss: 5.6031\n",
      "Epoch 14/200\n",
      "\u001b[1m40/41\u001b[0m \u001b[32m━━━━━━━━━━━━━━━━━━━\u001b[0m\u001b[37m━\u001b[0m \u001b[1m0s\u001b[0m 62ms/step - accuracy: 0.9997 - loss: 1.7315\n",
      "Epoch 14: val_accuracy did not improve from 0.49845\n",
      "\u001b[1m41/41\u001b[0m \u001b[32m━━━━━━━━━━━━━━━━━━━━\u001b[0m\u001b[37m\u001b[0m \u001b[1m5s\u001b[0m 66ms/step - accuracy: 0.9996 - loss: 1.7305 - val_accuracy: 0.4985 - val_loss: 6.5824\n",
      "Epoch 15/200\n",
      "\u001b[1m40/41\u001b[0m \u001b[32m━━━━━━━━━━━━━━━━━━━\u001b[0m\u001b[37m━\u001b[0m \u001b[1m0s\u001b[0m 62ms/step - accuracy: 0.9989 - loss: 1.6385\n",
      "Epoch 15: val_accuracy did not improve from 0.49845\n",
      "\u001b[1m41/41\u001b[0m \u001b[32m━━━━━━━━━━━━━━━━━━━━\u001b[0m\u001b[37m\u001b[0m \u001b[1m3s\u001b[0m 66ms/step - accuracy: 0.9989 - loss: 1.6375 - val_accuracy: 0.4985 - val_loss: 6.6962\n",
      "Epoch 16/200\n",
      "\u001b[1m40/41\u001b[0m \u001b[32m━━━━━━━━━━━━━━━━━━━\u001b[0m\u001b[37m━\u001b[0m \u001b[1m0s\u001b[0m 62ms/step - accuracy: 0.9968 - loss: 1.5526\n",
      "Epoch 16: val_accuracy did not improve from 0.49845\n",
      "\u001b[1m41/41\u001b[0m \u001b[32m━━━━━━━━━━━━━━━━━━━━\u001b[0m\u001b[37m\u001b[0m \u001b[1m3s\u001b[0m 66ms/step - accuracy: 0.9968 - loss: 1.5515 - val_accuracy: 0.4985 - val_loss: 5.8390\n",
      "Epoch 17/200\n",
      "\u001b[1m40/41\u001b[0m \u001b[32m━━━━━━━━━━━━━━━━━━━\u001b[0m\u001b[37m━\u001b[0m \u001b[1m0s\u001b[0m 61ms/step - accuracy: 0.9935 - loss: 1.4751\n",
      "Epoch 17: val_accuracy did not improve from 0.49845\n",
      "\u001b[1m41/41\u001b[0m \u001b[32m━━━━━━━━━━━━━━━━━━━━\u001b[0m\u001b[37m\u001b[0m \u001b[1m3s\u001b[0m 66ms/step - accuracy: 0.9935 - loss: 1.4739 - val_accuracy: 0.4985 - val_loss: 5.6404\n",
      "Epoch 18/200\n",
      "\u001b[1m40/41\u001b[0m \u001b[32m━━━━━━━━━━━━━━━━━━━\u001b[0m\u001b[37m━\u001b[0m \u001b[1m0s\u001b[0m 136ms/step - accuracy: 0.9955 - loss: 1.3833\n",
      "Epoch 18: val_accuracy did not improve from 0.49845\n",
      "\u001b[1m41/41\u001b[0m \u001b[32m━━━━━━━━━━━━━━━━━━━━\u001b[0m\u001b[37m\u001b[0m \u001b[1m6s\u001b[0m 139ms/step - accuracy: 0.9955 - loss: 1.3825 - val_accuracy: 0.4985 - val_loss: 7.3378\n",
      "Epoch 19/200\n",
      "\u001b[1m40/41\u001b[0m \u001b[32m━━━━━━━━━━━━━━━━━━━\u001b[0m\u001b[37m━\u001b[0m \u001b[1m0s\u001b[0m 61ms/step - accuracy: 0.9959 - loss: 1.3062\n",
      "Epoch 19: val_accuracy did not improve from 0.49845\n",
      "\u001b[1m41/41\u001b[0m \u001b[32m━━━━━━━━━━━━━━━━━━━━\u001b[0m\u001b[37m\u001b[0m \u001b[1m3s\u001b[0m 66ms/step - accuracy: 0.9959 - loss: 1.3052 - val_accuracy: 0.4985 - val_loss: 6.6851\n",
      "Epoch 20/200\n",
      "\u001b[1m40/41\u001b[0m \u001b[32m━━━━━━━━━━━━━━━━━━━\u001b[0m\u001b[37m━\u001b[0m \u001b[1m0s\u001b[0m 61ms/step - accuracy: 0.9998 - loss: 1.2159\n",
      "Epoch 20: val_accuracy did not improve from 0.49845\n",
      "\u001b[1m41/41\u001b[0m \u001b[32m━━━━━━━━━━━━━━━━━━━━\u001b[0m\u001b[37m\u001b[0m \u001b[1m3s\u001b[0m 66ms/step - accuracy: 0.9998 - loss: 1.2151 - val_accuracy: 0.4985 - val_loss: 5.5677\n",
      "Epoch 21/200\n",
      "\u001b[1m40/41\u001b[0m \u001b[32m━━━━━━━━━━━━━━━━━━━\u001b[0m\u001b[37m━\u001b[0m \u001b[1m0s\u001b[0m 61ms/step - accuracy: 0.9998 - loss: 1.1442\n",
      "Epoch 21: val_accuracy did not improve from 0.49845\n",
      "\u001b[1m41/41\u001b[0m \u001b[32m━━━━━━━━━━━━━━━━━━━━\u001b[0m\u001b[37m\u001b[0m \u001b[1m3s\u001b[0m 66ms/step - accuracy: 0.9998 - loss: 1.1435 - val_accuracy: 0.4985 - val_loss: 5.1979\n",
      "Epoch 22/200\n",
      "\u001b[1m40/41\u001b[0m \u001b[32m━━━━━━━━━━━━━━━━━━━\u001b[0m\u001b[37m━\u001b[0m \u001b[1m0s\u001b[0m 61ms/step - accuracy: 0.9996 - loss: 1.0746\n",
      "Epoch 22: val_accuracy did not improve from 0.49845\n",
      "\u001b[1m41/41\u001b[0m \u001b[32m━━━━━━━━━━━━━━━━━━━━\u001b[0m\u001b[37m\u001b[0m \u001b[1m3s\u001b[0m 66ms/step - accuracy: 0.9996 - loss: 1.0739 - val_accuracy: 0.4985 - val_loss: 5.1807\n",
      "\n",
      "O modelo demorou 147.05 segundos para treinar.\n",
      "\u001b[1m11/11\u001b[0m \u001b[32m━━━━━━━━━━━━━━━━━━━━\u001b[0m\u001b[37m\u001b[0m \u001b[1m4s\u001b[0m 185ms/step\n"
     ]
    },
    {
     "name": "stderr",
     "output_type": "stream",
     "text": [
      "/home/user/miniconda3/envs/tf_gpu/lib/python3.10/site-packages/sklearn/metrics/_classification.py:1531: UndefinedMetricWarning: Precision is ill-defined and being set to 0.0 due to no predicted samples. Use `zero_division` parameter to control this behavior.\n",
      "  _warn_prf(average, modifier, f\"{metric.capitalize()} is\", len(result))\n"
     ]
    }
   ],
   "source": [
    "acc = []\n",
    "jacc = []\n",
    "f1 = []\n",
    "prec = []\n",
    "rec = []\n",
    "\n",
    "# Configurar K-Fold com random_state fixo para reprodutibilidade\n",
    "kfold = StratifiedKFold(n_splits=5, shuffle=True, random_state=53)\n",
    "\n",
    "# Verificar quais folds já foram completados\n",
    "completed_folds = []\n",
    "for f in range(1, 6):\n",
    "    model_path = output_dir + f'model_{nome}_fold_{f}.keras'\n",
    "    if os.path.exists(model_path):\n",
    "        completed_folds.append(f)\n",
    "print(f\"Folds concluídos: {completed_folds}\")\n",
    "\n",
    "fold_no = 1\n",
    "histories = []\n",
    "metrics = []\n",
    "\n",
    "for train_idx, val_idx in kfold.split(X_train, y_train):\n",
    "    # Pular folds já concluídos\n",
    "    if fold_no in completed_folds:\n",
    "        print(f\"\\nPulando fold {fold_no} (já concluído)\")\n",
    "        fold_no += 1\n",
    "        continue\n",
    "\n",
    "    print(f'\\nTreinando Fold {fold_no}/5')\n",
    "    \n",
    "    # Split dos dados\n",
    "    X_train_fold = X_train[train_idx]\n",
    "    y_train_fold = y_train[train_idx]\n",
    "    X_val_fold = X_train[val_idx]\n",
    "    y_val_fold = y_train[val_idx]\n",
    "\n",
    "    # Pré-processamento final\n",
    "    X_train_fold = np.expand_dims(X_train_fold, axis=-1)\n",
    "    X_val_fold = np.expand_dims(X_val_fold, axis=-1)\n",
    "    y_train_fold_cat = to_categorical(y_train_fold, 2)\n",
    "    y_val_fold_cat = to_categorical(y_val_fold, 2)\n",
    "\n",
    "    # Criar novo modelo para cada fold\n",
    "    model = model_mobilenetv2()\n",
    "\n",
    "    # Checkpoint com nome do fold\n",
    "    checkpoint_filepath = output_dir + f'model_{nome}_fold_{fold_no}.keras'\n",
    "    callbacks = [\n",
    "        tf.keras.callbacks.EarlyStopping(patience=20, monitor='val_loss'),\n",
    "        tf.keras.callbacks.TensorBoard(log_dir='logs'),\n",
    "        tf.keras.callbacks.ModelCheckpoint(\n",
    "            filepath=checkpoint_filepath,\n",
    "            save_weights_only=False,\n",
    "            monitor='val_accuracy',\n",
    "            mode='max',\n",
    "            save_best_only=True,\n",
    "            verbose=1\n",
    "        )\n",
    "    ]\n",
    "\n",
    "    # Calcula tempo (start)\n",
    "    start_time = time.time()\n",
    "    \n",
    "    # Treinar modelo\n",
    "    history = model.fit(\n",
    "        X_train_fold, y_train_fold_cat,\n",
    "        batch_size=BATCH_SIZE,\n",
    "        epochs=EPOCHS,\n",
    "        validation_data=(X_val_fold, y_val_fold_cat),\n",
    "        callbacks=callbacks,\n",
    "        verbose=1\n",
    "    )\n",
    "\n",
    "    # Calcula tempo (end)\n",
    "    end_time = time.time()\n",
    "\n",
    "    training_time = end_time - start_time\n",
    "    print(f\"\\nO modelo demorou {training_time:.2f} segundos para treinar.\")\n",
    "\n",
    "    # Coletar métricas e salvar modelo\n",
    "    predictions = model.predict(X_val_fold)\n",
    "    y_pred = np.argmax(predictions, axis=1)\n",
    "    \n",
    "    metrics.append({\n",
    "        'fold': fold_no,\n",
    "        'report': classification_report(y_val_fold, y_pred, output_dict=True, zero_division=0),\n",
    "        'matrix': confusion_matrix(y_val_fold, y_pred)\n",
    "    })\n",
    "\n",
    "    # Métricas de classificação (por fold)\n",
    "    acc.append(accuracy_score(y_val_fold, y_pred))\n",
    "    jacc.append(jaccard_score(y_val_fold, y_pred))\n",
    "    f1.append(f1_score(y_val_fold, y_pred))\n",
    "    prec.append(precision_score(y_val_fold, y_pred))\n",
    "    rec.append(recall_score(y_val_fold, y_pred))\n",
    "\n",
    "    # Salvar métricas em um arquivo .txt\n",
    "    metrics_filename = os.path.join(output_dir, f'metrics_{nome}_fold_{fold_no}.txt')\n",
    "    with open(metrics_filename, 'w') as f:\n",
    "        f.write(f\"Fold {fold_no} Metrics:\\n\")\n",
    "        f.write(f\"Accuracy: {acc[-1]}\\n\")\n",
    "        f.write(f\"Jaccard Score: {jacc[-1]}\\n\")\n",
    "        f.write(f\"F1 Score: {f1[-1]}\\n\")\n",
    "        f.write(f\"Precision: {prec[-1]}\\n\")\n",
    "        f.write(f\"Recall: {rec[-1]}\\n\")\n",
    "        f.write(\"\\nClassification Report:\\n\")\n",
    "        f.write(classification_report(y_val_fold, y_pred, zero_division=0))\n",
    "        f.write(\"\\nConfusion Matrix:\\n\")\n",
    "        f.write(np.array2string(confusion_matrix(y_val_fold, y_pred)))\n",
    "\n",
    "    # Limpeza de memória\n",
    "    del model\n",
    "    tf.keras.backend.clear_session()\n",
    "    gc.collect()\n",
    "\n",
    "    # Salvar checkpoint a cada 3 folds\n",
    "    if fold_no % 3 == 0:\n",
    "        print(f\"\\nCheckpoint: Folds {fold_no-2}-{fold_no} concluídos\")\n",
    "\n",
    "    fold_no += 1"
   ]
  },
  {
   "cell_type": "code",
   "execution_count": 21,
   "metadata": {
    "scrolled": true
   },
   "outputs": [
    {
     "name": "stdout",
     "output_type": "stream",
     "text": [
      "Accuracy: 0.4984520123839009+- 0.0\n",
      "Jaccard: 0.0+- 0.0\n",
      "Dice: 0.0+- 0.0\n",
      "Precision: 0.0+- 0.0\n",
      "Recall: 0.0+- 0.0\n"
     ]
    }
   ],
   "source": [
    "print(\"Accuracy: \"+ str(np.mean(acc)) + \"+- \" + str(np.std(acc)))\n",
    "print(\"Jaccard: \"+ str(np.mean(jacc)) + \"+- \" + str(np.std(jacc)))\n",
    "print(\"Dice: \"+ str(np.mean(f1)) + \"+- \" + str(np.std(f1)))\n",
    "print(\"Precision: \"+ str(np.mean(prec)) + \"+- \" + str(np.std(prec)))\n",
    "print(\"Recall: \"+ str(np.mean(rec)) + \"+- \" + str(np.std(rec)))"
   ]
  },
  {
   "cell_type": "code",
   "execution_count": 22,
   "metadata": {},
   "outputs": [
    {
     "data": {
      "text/plain": [
       "0"
      ]
     },
     "execution_count": 22,
     "metadata": {},
     "output_type": "execute_result"
    }
   ],
   "source": [
    "# GC collect\n",
    "tf.keras.backend.clear_session()\n",
    "gc.collect()"
   ]
  },
  {
   "cell_type": "code",
   "execution_count": null,
   "metadata": {},
   "outputs": [],
   "source": []
  }
 ],
 "metadata": {
  "kernelspec": {
   "display_name": "Python 3 (ipykernel)",
   "language": "python",
   "name": "python3"
  },
  "language_info": {
   "codemirror_mode": {
    "name": "ipython",
    "version": 3
   },
   "file_extension": ".py",
   "mimetype": "text/x-python",
   "name": "python",
   "nbconvert_exporter": "python",
   "pygments_lexer": "ipython3",
   "version": "3.10.16"
  }
 },
 "nbformat": 4,
 "nbformat_minor": 4
}
