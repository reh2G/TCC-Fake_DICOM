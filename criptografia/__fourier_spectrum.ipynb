{
 "cells": [
  {
   "cell_type": "code",
   "execution_count": 51,
   "metadata": {},
   "outputs": [],
   "source": [
    "import os\n",
    "import cv2\n",
    "import numpy as np\n",
    "import matplotlib.pyplot as plt\n",
    "import matplotlib.pyplot as plt\n",
    "import pydicom"
   ]
  },
  {
   "cell_type": "markdown",
   "metadata": {},
   "source": [
    "# Spectrum"
   ]
  },
  {
   "cell_type": "code",
   "execution_count": 52,
   "metadata": {},
   "outputs": [],
   "source": [
    "for slice in range(218, 300):\n",
    "    # Lê o arquivo DICOM\n",
    "    ds = pydicom.dcmread(f'C:\\\\Users\\\\CarlosChinen\\\\OneDrive\\\\Main\\\\FEI\\\\TCC\\\\Imagens DICOM\\\\slice_{slice}.dcm')\n",
    "\n",
    "    # Extrai o array de pixels\n",
    "    pixel_array = ds.pixel_array\n",
    "\n",
    "    pixel_normalized = cv2.normalize(pixel_array, None, 0, 255, cv2.NORM_MINMAX)\n",
    "    pixel_uint8 = pixel_normalized.astype(np.uint8)\n",
    "\n",
    "    # Salva a imagem com OpenCV\n",
    "    output_path = f\"dicom_pixel_dataset/pixel_slice_{slice}.png\"\n",
    "\n",
    "    os.makedirs(os.path.dirname(output_path), exist_ok=True)\n",
    "    cv2.imwrite(output_path, pixel_uint8)"
   ]
  },
  {
   "cell_type": "markdown",
   "metadata": {},
   "source": [
    "# Fourier"
   ]
  },
  {
   "cell_type": "code",
   "execution_count": 53,
   "metadata": {},
   "outputs": [],
   "source": [
    "for slice in range(218, 300):\n",
    "    output_dir=\"dicom_fourier_spectrum_dataset\"\n",
    "    \n",
    "    # Carregar a imagem em escala de cinza\n",
    "    image = cv2.imread(f'C:\\\\Users\\\\CarlosChinen\\\\OneDrive\\\\Main\\\\FEI\\\\TCC\\\\Criptografia\\\\rsa_sha3\\\\dicom_pixel_dataset\\\\pixel_slice_{slice}.png', cv2.IMREAD_GRAYSCALE)\n",
    "    if image is None:\n",
    "        raise ValueError(\"Imagem não encontrada ou caminho inválido.\")\n",
    "\n",
    "    # Aplicar a Transformada de Fourier\n",
    "    f = np.fft.fft2(image)\n",
    "    fshift = np.fft.fftshift(f)\n",
    "    magnitude_spectrum = 20 * np.log(np.abs(fshift))\n",
    "\n",
    "    # Caminhos dos arquivos salvos\n",
    "    spectrum_original_path = os.path.join(output_dir, f\"spectrum_slice_{slice}.png\")\n",
    "\n",
    "    # Salvar as imagens no diretório\n",
    "    os.makedirs(output_dir, exist_ok=True)\n",
    "    cv2.imwrite(spectrum_original_path, magnitude_spectrum)"
   ]
  }
 ],
 "metadata": {
  "kernelspec": {
   "display_name": "Python 3",
   "language": "python",
   "name": "python3"
  },
  "language_info": {
   "codemirror_mode": {
    "name": "ipython",
    "version": 3
   },
   "file_extension": ".py",
   "mimetype": "text/x-python",
   "name": "python",
   "nbconvert_exporter": "python",
   "pygments_lexer": "ipython3",
   "version": "3.13.2"
  }
 },
 "nbformat": 4,
 "nbformat_minor": 2
}
