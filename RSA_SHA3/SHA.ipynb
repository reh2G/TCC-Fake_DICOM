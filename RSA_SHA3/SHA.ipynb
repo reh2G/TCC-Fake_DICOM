{
 "cells": [
  {
   "cell_type": "code",
   "execution_count": null,
   "metadata": {},
   "outputs": [
    {
     "name": "stdout",
     "output_type": "stream",
     "text": [
      "Hash SHA3-256: 948e6bcb0c3470a2f6ab19be6afcace577aacc50286848bd75fad368f2192d70\n"
     ]
    }
   ],
   "source": [
    "import hashlib\n",
    "\n",
    "def gerar_hash_sha3_256(texto):\n",
    "    \"\"\"\n",
    "    Gera um hash SHA3-256 a partir de um texto fornecido.\n",
    "    -> Retorna: Hash SHA3-256 em formato hexadecimal.\n",
    "    \"\"\"\n",
    "    hash_obj = hashlib.sha3_256(texto.encode('utf-8'))\n",
    "    return hash_obj.hexdigest()\n",
    "\n",
    "texto = '''Nome: Carlos Alves Missima\n",
    "Idade: 69\n",
    "CPF: 12345678910\n",
    "RG: 123456789'''\n",
    "\n",
    "hash_gerado = gerar_hash_sha3_256(texto)\n",
    "print(f\"Hash SHA3: {hash_gerado}\")"
   ]
  },
  {
   "cell_type": "markdown",
   "metadata": {},
   "source": [
    "### Site para validar o Hash:\n",
    "https://emn178.github.io/online-tools/sha3_256.html\n",
    "\n",
    "* **Hash gerado 1:** 948e6bcb0c3470a2f6ab19be6afcace577aacc50286848bd75fad368f2192d70\n",
    "* **Hash gerado 2:** 948e6bcb0c3470a2f6ab19be6afcace577aacc50286848bd75fad368f2192d70"
   ]
  }
 ],
 "metadata": {
  "kernelspec": {
   "display_name": "Python 3",
   "language": "python",
   "name": "python3"
  },
  "language_info": {
   "codemirror_mode": {
    "name": "ipython",
    "version": 3
   },
   "file_extension": ".py",
   "mimetype": "text/x-python",
   "name": "python",
   "nbconvert_exporter": "python",
   "pygments_lexer": "ipython3",
   "version": "3.13.2"
  }
 },
 "nbformat": 4,
 "nbformat_minor": 2
}
