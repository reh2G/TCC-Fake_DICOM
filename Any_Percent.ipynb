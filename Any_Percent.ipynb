{
 "cells": [
  {
   "cell_type": "code",
   "execution_count": 1,
   "id": "28f8f325-c745-46ca-928b-1494fc443df2",
   "metadata": {},
   "outputs": [
    {
     "name": "stdout",
     "output_type": "stream",
     "text": [
      "Resultados finais (X% | Acurácia Média):\n",
      "1%: 0.9728\n",
      "2%: 0.8994\n",
      "3%: 0.9654\n",
      "4%: 0.9778\n",
      "6%: 0.9790\n",
      "8%: 0.7590\n",
      "10%: 0.9926\n",
      "12%: 0.9148\n",
      "14%: 1.0000\n",
      "50%: 0.9994\n",
      "99%: 0.8944\n"
     ]
    }
   ],
   "source": [
    "import os\n",
    "\n",
    "# Diretório base onde as pastas estão localizadas\n",
    "base_dir = \"Results\"\n",
    "\n",
    "# Lista para armazenar os resultados (X%, média de acurácia)\n",
    "results = []\n",
    "\n",
    "# Listar todas as pastas no diretório base\n",
    "for folder_name in os.listdir(base_dir):\n",
    "    # Verificar se o nome da pasta segue o padrão esperado\n",
    "    if not folder_name.startswith(\"CNN-espectro-ResNet50 results (\"):\n",
    "        continue\n",
    "    \n",
    "    # Extrair o valor de X do nome da pasta (ex: \"1%\", \"2%\", etc.)\n",
    "    try:\n",
    "        x_str = folder_name.split(\"(\")[1].replace(\"%)\", \"\").strip()\n",
    "        x = int(x_str)\n",
    "    except (IndexError, ValueError):\n",
    "        print(f\"Ignorando pasta com formato inválido: {folder_name}\")\n",
    "        continue\n",
    "    \n",
    "    folder_path = os.path.join(base_dir, folder_name)\n",
    "    accuracies = []\n",
    "    \n",
    "    # Ler os 5 arquivos de métricas (fold 1 a 5)\n",
    "    for fold in range(1, 6):\n",
    "        file_name = f\"metrics_Yildirim_fold_{fold}.txt\"\n",
    "        file_path = os.path.join(folder_path, file_name)\n",
    "        \n",
    "        # Verificar se o arquivo existe\n",
    "        if not os.path.exists(file_path):\n",
    "            print(f\"Arquivo não encontrado: {file_path}\")\n",
    "            continue\n",
    "        \n",
    "        # Extrair a acurácia do arquivo\n",
    "        with open(file_path, \"r\") as file:\n",
    "            for line in file:\n",
    "                if line.startswith(\"Accuracy: \"):\n",
    "                    accuracy = float(line.split()[1])\n",
    "                    accuracies.append(accuracy)\n",
    "                    break  # Otimização: parar após encontrar a linha\n",
    "    \n",
    "    # Calcular a média se houver 5 valores\n",
    "    if len(accuracies) == 5:\n",
    "        avg_accuracy = sum(accuracies) / 5\n",
    "        results.append((x, avg_accuracy))\n",
    "    else:\n",
    "        print(f\"Pasta {folder_name} tem {len(accuracies)}/5 valores de acurácia\")\n",
    "\n",
    "# Ordenar os resultados pelo valor de X\n",
    "results.sort(key=lambda item: item[0])\n",
    "\n",
    "# Exibir resultados formatados\n",
    "print(\"Resultados finais (X% | Acurácia Média):\")\n",
    "for x, accuracy in results:\n",
    "    print(f\"{x}%: {accuracy:.4f}\")"
   ]
  }
 ],
 "metadata": {
  "kernelspec": {
   "display_name": "Python 3 (ipykernel)",
   "language": "python",
   "name": "python3"
  },
  "language_info": {
   "codemirror_mode": {
    "name": "ipython",
    "version": 3
   },
   "file_extension": ".py",
   "mimetype": "text/x-python",
   "name": "python",
   "nbconvert_exporter": "python",
   "pygments_lexer": "ipython3",
   "version": "3.10.16"
  }
 },
 "nbformat": 4,
 "nbformat_minor": 5
}
