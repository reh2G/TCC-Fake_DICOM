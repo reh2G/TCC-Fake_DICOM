{
 "cells": [
  {
   "cell_type": "code",
   "execution_count": 34,
   "metadata": {},
   "outputs": [],
   "source": [
    "import numpy as np\n",
    "import cv2\n",
    "import os\n",
    "\n",
    "output_dir = \"DATASET_dicom_fourier_spectrum\"\n",
    "os.makedirs(output_dir, exist_ok=True)\n",
    "\n",
    "# for slice in range(218, 300):\n",
    "# Carregar a imagem em escala de cinza como float64\n",
    "image = cv2.imread(f'C:\\\\Users\\\\CarlosChinen\\\\OneDrive\\\\Main\\\\FEI\\\\TCC\\\\Criptografia\\\\criptografia\\\\DATASET_dicom_pixel\\\\pixel_slice_218.png', cv2.IMREAD_GRAYSCALE)\n",
    "if image is None:\n",
    "    raise ValueError(f\"Imagem não encontrada: slice 218\")\n",
    "\n",
    "image = image.astype(np.float64)  # importante!\n",
    "\n",
    "# Aplicar a Transformada de Fourier\n",
    "f = np.fft.fft2(image)\n",
    "fshift = np.fft.fftshift(f)\n",
    "\n",
    "# Salvar imagem apenas para visualização (não usada na reconstrução)\n",
    "magnitude_spectrum = 20 * np.log(np.abs(fshift) + 1e-8)  # +1e-8 evita log(0)\n",
    "spectrum_path = os.path.join(output_dir, f\"spectrum_slice_218.png\")\n",
    "cv2.imwrite(spectrum_path, cv2.normalize(magnitude_spectrum, None, 0, 255, cv2.NORM_MINMAX).astype(np.uint8))\n",
    "\n",
    "# Salvar dados da transformada para reconstrução posterior\n",
    "np.save(os.path.join(output_dir, f\"fourier_slice_218.npy\"), fshift)\n",
    "\n",
    "# Opcional: salvar a imagem original como .npy para verificação de hash\n",
    "np.save(os.path.join(output_dir, f\"original_slice_218.npy\"), image)\n"
   ]
  },
  {
   "cell_type": "code",
   "execution_count": 35,
   "metadata": {},
   "outputs": [
    {
     "data": {
      "text/plain": [
       "True"
      ]
     },
     "execution_count": 35,
     "metadata": {},
     "output_type": "execute_result"
    }
   ],
   "source": [
    "import numpy as np\n",
    "import os\n",
    "import cv2\n",
    "\n",
    "input_dir = \"DATASET_dicom_fourier_spectrum\"\n",
    "output_dir = \"DATASET_dicom_ifft\"\n",
    "os.makedirs(output_dir, exist_ok=True)\n",
    "\n",
    "# for slice in range(218, 300):\n",
    "# Carregar o espectro de Fourier salvo (completo, incluindo fase)\n",
    "fshift = np.load(os.path.join(input_dir, f\"fourier_slice_218.npy\"))\n",
    "\n",
    "# Aplicar ifftshift e transformada inversa\n",
    "f_ishift = np.fft.ifftshift(fshift)\n",
    "img_back = np.fft.ifft2(f_ishift)\n",
    "\n",
    "# Extrair apenas a parte real (sem abs, sem uint8)\n",
    "img_back_real = np.real(img_back)\n",
    "\n",
    "# Salvar reconstrução como .npy (preservando os dados exatos)\n",
    "np.save(os.path.join(output_dir, f\"reconstructed_slice_218.npy\"), img_back_real)\n",
    "\n",
    "# Salvar imagem apenas para visualização (convertida para 8-bit)\n",
    "vis_img = cv2.normalize(img_back_real, None, 0, 255, cv2.NORM_MINMAX).astype(np.uint8)\n",
    "reconstructed_path = os.path.join(output_dir, f\"reconstructed_slice_218.png\")\n",
    "cv2.imwrite(reconstructed_path, vis_img)\n"
   ]
  },
  {
   "cell_type": "code",
   "execution_count": 39,
   "metadata": {},
   "outputs": [
    {
     "name": "stdout",
     "output_type": "stream",
     "text": [
      "9d4d1ddd03257fa48915299002ba6e4d80f440d936bf4fb975fc76790cb64a7f\n",
      "cd7a38642e9c70c3811faee617493891e197a4f2aa7b5b45b4930e9f484eb571\n"
     ]
    }
   ],
   "source": [
    "import hashlib\n",
    "\n",
    "def gerar_hash_sha3_256(dados):\n",
    "    hash_obj = hashlib.sha3_256(dados)\n",
    "    return hash_obj.hexdigest()\n",
    "\n",
    "pasta_original = r\"C:\\Users\\CarlosChinen\\OneDrive\\Main\\FEI\\TCC\\Criptografia\\criptografia\\DATASET_dicom_pixel\\pixel_slice_218.png\"\n",
    "pasta_descriptografada = r\"C:\\Users\\CarlosChinen\\OneDrive\\Main\\FEI\\TCC\\Criptografia\\criptografia\\DATASET_dicom_ifft\\reconstructed_slice_218.png\"\n",
    "\n",
    "with open(pasta_original, \"rb\") as img_file:\n",
    "    imagem_original = img_file.read()\n",
    "hash_original = gerar_hash_sha3_256(imagem_original)\n",
    "\n",
    "with open(pasta_descriptografada, \"rb\") as img_file:\n",
    "    imagem_descriptografada = img_file.read()\n",
    "hash_descriptografada = gerar_hash_sha3_256(imagem_descriptografada)\n",
    "\n",
    "print(hash_original)\n",
    "print(hash_descriptografada)"
   ]
  }
 ],
 "metadata": {
  "kernelspec": {
   "display_name": "Python 3",
   "language": "python",
   "name": "python3"
  },
  "language_info": {
   "codemirror_mode": {
    "name": "ipython",
    "version": 3
   },
   "file_extension": ".py",
   "mimetype": "text/x-python",
   "name": "python",
   "nbconvert_exporter": "python",
   "pygments_lexer": "ipython3",
   "version": "3.13.2"
  }
 },
 "nbformat": 4,
 "nbformat_minor": 2
}
