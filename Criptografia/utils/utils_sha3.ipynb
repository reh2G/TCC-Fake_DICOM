{
 "cells": [
  {
   "cell_type": "code",
   "execution_count": null,
   "metadata": {},
   "outputs": [],
   "source": [
    "import hashlib\n",
    "\n",
    "def gerar_hash_sha3_256(texto):\n",
    "    \"\"\"\n",
    "    Gera um hash SHA3-256 a partir de um texto fornecido.\n",
    "    -> Retorna: Hash SHA3-256 em formato hexadecimal.\n",
    "    \"\"\"\n",
    "    hash_obj = hashlib.sha3_256(texto.encode('utf-8'))\n",
    "    return hash_obj.hexdigest()"
   ]
  },
  {
   "cell_type": "code",
   "execution_count": 14,
   "metadata": {},
   "outputs": [
    {
     "name": "stdout",
     "output_type": "stream",
     "text": [
      "Dataset.file_meta -------------------------------\n",
      "(0002,0000) File Meta Information Group Length  UL: 174\n",
      "(0002,0001) File Meta Information Version       OB: b'\\x00\\x01'\n",
      "(0002,0002) Media Storage SOP Class UID         UI: CT Image Storage\n",
      "(0002,0003) Media Storage SOP Instance UID      UI: 2.25.146277329672617942791416208859429905942\n",
      "(0002,0010) Transfer Syntax UID                 UI: Implicit VR Little Endian\n",
      "(0002,0012) Implementation Class UID            UI: 1.2.40.0.13.1.3\n",
      "(0002,0013) Implementation Version Name         SH: 'dcm4che-5.32.0.2'\n",
      "-------------------------------------------------\n",
      "(0008,0005) Specific Character Set              CS: 'ISO_IR 192'\n",
      "(0008,0008) Image Type                          CS: ['DERIVED', 'SECONDARY', 'MPR']\n",
      "(0008,0016) SOP Class UID                       UI: CT Image Storage\n",
      "(0008,0018) SOP Instance UID                    UI: 2.25.146277329672617942791416208859429905942\n",
      "(0008,0020) Study Date                          DA: '20230510'\n",
      "(0008,0021) Series Date                         DA: '20230510'\n",
      "(0008,0030) Study Time                          TM: '092417.905'\n",
      "(0008,0031) Series Time                         TM: '093643.576'\n",
      "(0008,0050) Accession Number                    SH: ''\n",
      "(0008,0060) Modality                            CS: 'CT'\n",
      "(0008,0070) Manufacturer                        LO: 'Siemens Healthineers'\n",
      "(0008,0090) Referring Physician's Name          PN: ''\n",
      "(0008,1030) Study Description                   LO: 'ABDOMEN TRIFASICO EXCRETORA(Adult)'\n",
      "(0008,103E) Series Description                  LO: 'VOL ABD EXCRETORA [MPR]'\n",
      "(0008,1090) Manufacturer's Model Name           LO: 'SOMATOM go.All'\n",
      "(0010,0010) Patient's Name                      PN: 'CORDIOLLI^IEUSA SABINO DOS SANTOS'\n",
      "(0010,0020) Patient ID                          LO: '0000011130'\n",
      "(0010,0030) Patient's Birth Date                DA: '19501025'\n",
      "(0010,0040) Patient's Sex                       CS: 'F'\n",
      "(0018,0050) Slice Thickness                     DS: '0.81665234375'\n",
      "(0020,000D) Study Instance UID                  UI: 2.25.170119666602391755608036130991840044674\n",
      "(0020,000E) Series Instance UID                 UI: 2.25.172872997971957719889939299674374992184\n",
      "(0020,0010) Study ID                            SH: '460020'\n",
      "(0020,0011) Series Number                       IS: '12'\n",
      "(0020,0013) Instance Number                     IS: '219'\n",
      "(0020,0032) Image Position (Patient)            DS: [-223.718, -167.12478906249, -1131.56]\n",
      "(0020,0037) Image Orientation (Patient)         DS: [1, 0, 0, 0, -1.836970198E-16, -1]\n",
      "(0020,0052) Frame of Reference UID              UI: 1.3.12.2.1107.5.1.7.156204.30000023051008082437800000103\n",
      "(0020,1041) Slice Location                      DS: '-167.12478906249'\n",
      "(0028,0002) Samples per Pixel                   US: 1\n",
      "(0028,0004) Photometric Interpretation          CS: 'MONOCHROME2'\n",
      "(0028,0010) Rows                                US: 423\n",
      "(0028,0011) Columns                             US: 512\n",
      "(0028,0030) Pixel Spacing                       DS: [1, 0.81665234375]\n",
      "(0028,0100) Bits Allocated                      US: 16\n",
      "(0028,0101) Bits Stored                         US: 16\n",
      "(0028,0103) Pixel Representation                US: 1\n",
      "(0028,1050) Window Center                       DS: '400'\n",
      "(0028,1051) Window Width                        DS: '1000'\n",
      "(0028,1052) Rescale Intercept                   DS: '0'\n",
      "(0028,1053) Rescale Slope                       DS: '1'\n",
      "(0028,1054) Rescale Type                        LO: 'HU'\n",
      "(7FE0,0010) Pixel Data                          OW: Array of 433152 elements\n"
     ]
    },
    {
     "name": "stderr",
     "output_type": "stream",
     "text": [
      "<>:4: SyntaxWarning: invalid escape sequence '\\F'\n",
      "<>:4: SyntaxWarning: invalid escape sequence '\\F'\n",
      "C:\\Users\\CarlosChinen\\AppData\\Local\\Temp\\ipykernel_20448\\1644999799.py:4: SyntaxWarning: invalid escape sequence '\\F'\n",
      "  caminho_arquivo = \"C:\\\\Users\\\\CarlosChinen\\\\OneDrive\\\\Main\\FEI\\\\TCC\\\\Imagens DICOM\\\\slice_218.dcm\"\n"
     ]
    }
   ],
   "source": [
    "import pydicom\n",
    "\n",
    "# Caminho do arquivo DICOM\n",
    "caminho_arquivo = \"C:\\\\Users\\\\CarlosChinen\\\\OneDrive\\\\Main\\FEI\\\\TCC\\\\Imagens DICOM\\\\slice_218.dcm\"\n",
    "\n",
    "# Carregar o arquivo DICOM\n",
    "ds = pydicom.dcmread(caminho_arquivo)\n",
    "\n",
    "# Exibir informações básicas do arquivo DICOM\n",
    "print(ds)"
   ]
  },
  {
   "cell_type": "code",
   "execution_count": null,
   "metadata": {},
   "outputs": [
    {
     "name": "stdout",
     "output_type": "stream",
     "text": [
      "Hash SHA3: 91502ff558d29db7cbd2b9d61d231b88722a80d8197af97fd575269ae4503285\n"
     ]
    }
   ],
   "source": [
    "hash_gerado = gerar_hash_sha3_256(str(ds))\n",
    "print(f\"Hash SHA3: {hash_gerado}\")"
   ]
  },
  {
   "cell_type": "markdown",
   "metadata": {},
   "source": [
    "### Site para validar o Hash:\n",
    "https://emn178.github.io/online-tools/sha3_256.html\n",
    "\n",
    "* **Hash gerado 1:** 948e6bcb0c3470a2f6ab19be6afcace577aacc50286848bd75fad368f2192d70\n",
    "* **Hash gerado 2:** 948e6bcb0c3470a2f6ab19be6afcace577aacc50286848bd75fad368f2192d70"
   ]
  },
  {
   "cell_type": "code",
   "execution_count": 15,
   "metadata": {},
   "outputs": [
    {
     "data": {
      "text/plain": [
       "True"
      ]
     },
     "execution_count": 15,
     "metadata": {},
     "output_type": "execute_result"
    }
   ],
   "source": [
    "'91502ff558d29db7cbd2b9d61d231b88722a80d8197af97fd575269ae4503285' == '91502ff558d29db7cbd2b9d61d231b88722a80d8197af97fd575269ae4503285'"
   ]
  }
 ],
 "metadata": {
  "kernelspec": {
   "display_name": "Python 3",
   "language": "python",
   "name": "python3"
  },
  "language_info": {
   "codemirror_mode": {
    "name": "ipython",
    "version": 3
   },
   "file_extension": ".py",
   "mimetype": "text/x-python",
   "name": "python",
   "nbconvert_exporter": "python",
   "pygments_lexer": "ipython3",
   "version": "3.13.2"
  }
 },
 "nbformat": 4,
 "nbformat_minor": 2
}
